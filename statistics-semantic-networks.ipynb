{
 "cells": [
  {
   "cell_type": "markdown",
   "metadata": {},
   "source": [
    "# Structural properties of semantic networks"
   ]
  },
  {
   "cell_type": "code",
   "execution_count": 98,
   "metadata": {
    "collapsed": true
   },
   "outputs": [],
   "source": [
    "import matplotlib.pyplot as plt\n",
    "import numpy as np\n",
    "%matplotlib inline\n",
    "import networkx as nx\n",
    "import pandas as pd"
   ]
  },
  {
   "cell_type": "markdown",
   "metadata": {},
   "source": [
    "### K-clique percolation thresholds for random graphs \n",
    "\n",
    "For each $k$ there is a certain threshold probability $p_c(k)$ above which k-cliques organize into a giant community in random Erdos-Renyi graphs:\n",
    "$$\n",
    "p_c(k)=\\frac{1}{\\left[ N(k-1)\\right]^{\\frac{1}{k-1}}},\n",
    "$$\n",
    "$N$ - the number of nodes. \n",
    "\n",
    "The following function returns the critical probabilities for $k=2$ and $k=3$ for random graphs with the same number of nodes as a given G:"
   ]
  },
  {
   "cell_type": "code",
   "execution_count": 99,
   "metadata": {
    "collapsed": true
   },
   "outputs": [],
   "source": [
    "def critical_probs(G):\n",
    "    p1=1/G.number_of_nodes() # for link percolation\n",
    "    p2=1/(np.sqrt(2*G.number_of_nodes()))\n",
    "    return [p1,p2]"
   ]
  },
  {
   "cell_type": "markdown",
   "metadata": {},
   "source": [
    "## English free assotiation networks"
   ]
  },
  {
   "cell_type": "code",
   "execution_count": 114,
   "metadata": {
    "collapsed": true
   },
   "outputs": [],
   "source": [
    "Gw=nx.read_graphml('data\\\\graphs\\\\data-swow.graphml').to_undirected() # the free association networks including from \n",
    "                                                                # the \"English Small World of Words project\"\n",
    "Gf=nx.read_graphml('data\\\\graphs\\\\data-fl.graphml').to_undirected() # the Florida data set\n",
    "\n",
    "Ge=nx.read_graphml('data\\\\graphs\\\\data-ed.graphml').to_undirected() # the Edinburgh Associative Thesaurus\n",
    "\n",
    "graphs=[Gw,Gf,Ge]"
   ]
  },
  {
   "cell_type": "code",
   "execution_count": 115,
   "metadata": {
    "collapsed": true
   },
   "outputs": [],
   "source": [
    "df1 = pd.DataFrame(columns=['Nodes', 'Edges', 'Density','Transitivity','Clustering','p_c(2)','p_c(3)'])\n",
    "df1['Network']=['SWOW-EN free association','Florida free association','Edinburgh free association']"
   ]
  },
  {
   "cell_type": "code",
   "execution_count": 116,
   "metadata": {
    "collapsed": true
   },
   "outputs": [],
   "source": [
    "df1['Nodes']=[nx.number_of_nodes(graph) for graph in graphs]\n",
    "df1['Edges']=[nx.number_of_edges(graph) for graph in graphs]\n",
    "df1['Density']=[nx.density(graph) for graph in graphs]\n",
    "df1['Transitivity']=[nx.transitivity(graph) for graph in graphs]\n",
    "df1['Clustering']=[nx.average_clustering(graph) for graph in graphs]\n",
    "\n",
    "df1['p_c(2)']=np.array([critical_probs(graph) for graph in graphs])[:,0]\n",
    "df1['p_c(3)']=np.array([critical_probs(graph) for graph in graphs])[:,1]"
   ]
  },
  {
   "cell_type": "code",
   "execution_count": 117,
   "metadata": {},
   "outputs": [
    {
     "data": {
      "text/html": [
       "<div>\n",
       "<style scoped>\n",
       "    .dataframe tbody tr th:only-of-type {\n",
       "        vertical-align: middle;\n",
       "    }\n",
       "\n",
       "    .dataframe tbody tr th {\n",
       "        vertical-align: top;\n",
       "    }\n",
       "\n",
       "    .dataframe thead th {\n",
       "        text-align: right;\n",
       "    }\n",
       "</style>\n",
       "<table border=\"1\" class=\"dataframe\">\n",
       "  <thead>\n",
       "    <tr style=\"text-align: right;\">\n",
       "      <th></th>\n",
       "      <th>Network</th>\n",
       "      <th>Nodes</th>\n",
       "      <th>Edges</th>\n",
       "      <th>Density</th>\n",
       "      <th>Transitivity</th>\n",
       "      <th>Clustering</th>\n",
       "      <th>p_c(2)</th>\n",
       "      <th>p_c(3)</th>\n",
       "    </tr>\n",
       "  </thead>\n",
       "  <tbody>\n",
       "    <tr>\n",
       "      <th>0</th>\n",
       "      <td>SWOW-EN free association</td>\n",
       "      <td>12217</td>\n",
       "      <td>352403</td>\n",
       "      <td>0.004723</td>\n",
       "      <td>0.051769</td>\n",
       "      <td>0.112828</td>\n",
       "      <td>0.000082</td>\n",
       "      <td>0.006397</td>\n",
       "    </tr>\n",
       "    <tr>\n",
       "      <th>1</th>\n",
       "      <td>Florida free association</td>\n",
       "      <td>5019</td>\n",
       "      <td>55246</td>\n",
       "      <td>0.004387</td>\n",
       "      <td>0.083425</td>\n",
       "      <td>0.186154</td>\n",
       "      <td>0.000199</td>\n",
       "      <td>0.009981</td>\n",
       "    </tr>\n",
       "    <tr>\n",
       "      <th>2</th>\n",
       "      <td>Edinburgh free association</td>\n",
       "      <td>8210</td>\n",
       "      <td>241461</td>\n",
       "      <td>0.007165</td>\n",
       "      <td>0.048140</td>\n",
       "      <td>0.102825</td>\n",
       "      <td>0.000122</td>\n",
       "      <td>0.007804</td>\n",
       "    </tr>\n",
       "  </tbody>\n",
       "</table>\n",
       "</div>"
      ],
      "text/plain": [
       "                      Network  Nodes   Edges   Density  Transitivity  \\\n",
       "0    SWOW-EN free association  12217  352403  0.004723      0.051769   \n",
       "1    Florida free association   5019   55246  0.004387      0.083425   \n",
       "2  Edinburgh free association   8210  241461  0.007165      0.048140   \n",
       "\n",
       "   Clustering    p_c(2)    p_c(3)  \n",
       "0    0.112828  0.000082  0.006397  \n",
       "1    0.186154  0.000199  0.009981  \n",
       "2    0.102825  0.000122  0.007804  "
      ]
     },
     "metadata": {},
     "output_type": "display_data"
    }
   ],
   "source": [
    "display(df1)"
   ]
  },
  {
   "cell_type": "markdown",
   "metadata": {},
   "source": [
    "## English semantic networks: phonological, synonyms, taxonomic and multiplex"
   ]
  },
  {
   "cell_type": "code",
   "execution_count": 125,
   "metadata": {
    "collapsed": true
   },
   "outputs": [],
   "source": [
    "Ph=nx.read_graphml('data\\\\graphs\\\\data-phon.graphml') # phonological\n",
    "Sn=nx.read_graphml('data\\\\graphs\\\\data-syn.graphml') # synonyms\n",
    "Tx=nx.read_graphml('data\\\\graphs\\\\data-taxon.graphml') # synonyms\n",
    "\n",
    "# for multiplex network\n",
    "Mg=nx.Graph()\n",
    "Mg.add_edges_from(list(Ph.edges()))\n",
    "Mg.add_edges_from(list(Sn.edges()))\n",
    "Mg.add_edges_from(list(Tx.edges()))\n",
    "#nx.write_graphml(Mg,'data\\\\graphs\\\\data-multi.graphml')\n",
    "graphs=[Ph,Sn,Tx,Mg]"
   ]
  },
  {
   "cell_type": "code",
   "execution_count": 119,
   "metadata": {
    "collapsed": true
   },
   "outputs": [],
   "source": [
    "df2 = pd.DataFrame(columns=['Network', 'Nodes', 'Edges', 'Density','Transitivity','Clustering','p_c(2)','p_c(3)'])\n",
    "df2['Network']=['Phonological','Synonyms','Taxonomic','Multiplex']\n",
    "\n",
    "df2['Nodes']=[nx.number_of_nodes(graph) for graph in graphs]\n",
    "df2['Edges']=[nx.number_of_edges(graph) for graph in graphs]\n",
    "df2['Density']=[nx.density(graph) for graph in graphs]\n",
    "df2['Transitivity']=[nx.transitivity(graph) for graph in graphs]\n",
    "df2['Clustering']=[nx.average_clustering(graph) for graph in graphs]\n",
    "\n",
    "df2['p_c(2)']=np.array([critical_probs(graph) for graph in graphs])[:,0]\n",
    "df2['p_c(3)']=np.array([critical_probs(graph) for graph in graphs])[:,1]"
   ]
  },
  {
   "cell_type": "code",
   "execution_count": 120,
   "metadata": {},
   "outputs": [
    {
     "data": {
      "text/html": [
       "<div>\n",
       "<style scoped>\n",
       "    .dataframe tbody tr th:only-of-type {\n",
       "        vertical-align: middle;\n",
       "    }\n",
       "\n",
       "    .dataframe tbody tr th {\n",
       "        vertical-align: top;\n",
       "    }\n",
       "\n",
       "    .dataframe thead th {\n",
       "        text-align: right;\n",
       "    }\n",
       "</style>\n",
       "<table border=\"1\" class=\"dataframe\">\n",
       "  <thead>\n",
       "    <tr style=\"text-align: right;\">\n",
       "      <th></th>\n",
       "      <th>Network</th>\n",
       "      <th>Nodes</th>\n",
       "      <th>Edges</th>\n",
       "      <th>Density</th>\n",
       "      <th>Transitivity</th>\n",
       "      <th>Clustering</th>\n",
       "      <th>p_c(2)</th>\n",
       "      <th>p_c(3)</th>\n",
       "    </tr>\n",
       "  </thead>\n",
       "  <tbody>\n",
       "    <tr>\n",
       "      <th>0</th>\n",
       "      <td>Phonological</td>\n",
       "      <td>4618</td>\n",
       "      <td>15447</td>\n",
       "      <td>0.001449</td>\n",
       "      <td>0.344888</td>\n",
       "      <td>0.245539</td>\n",
       "      <td>0.000217</td>\n",
       "      <td>0.010405</td>\n",
       "    </tr>\n",
       "    <tr>\n",
       "      <th>1</th>\n",
       "      <td>Synonyms</td>\n",
       "      <td>6526</td>\n",
       "      <td>13134</td>\n",
       "      <td>0.000617</td>\n",
       "      <td>0.283978</td>\n",
       "      <td>0.343880</td>\n",
       "      <td>0.000153</td>\n",
       "      <td>0.008753</td>\n",
       "    </tr>\n",
       "    <tr>\n",
       "      <th>2</th>\n",
       "      <td>Taxonomic</td>\n",
       "      <td>7943</td>\n",
       "      <td>42042</td>\n",
       "      <td>0.001333</td>\n",
       "      <td>0.048441</td>\n",
       "      <td>0.093201</td>\n",
       "      <td>0.000126</td>\n",
       "      <td>0.007934</td>\n",
       "    </tr>\n",
       "    <tr>\n",
       "      <th>3</th>\n",
       "      <td>Multiplex</td>\n",
       "      <td>8383</td>\n",
       "      <td>68505</td>\n",
       "      <td>0.001950</td>\n",
       "      <td>0.112498</td>\n",
       "      <td>0.283138</td>\n",
       "      <td>0.000119</td>\n",
       "      <td>0.007723</td>\n",
       "    </tr>\n",
       "  </tbody>\n",
       "</table>\n",
       "</div>"
      ],
      "text/plain": [
       "        Network  Nodes  Edges   Density  Transitivity  Clustering    p_c(2)  \\\n",
       "0  Phonological   4618  15447  0.001449      0.344888    0.245539  0.000217   \n",
       "1      Synonyms   6526  13134  0.000617      0.283978    0.343880  0.000153   \n",
       "2     Taxonomic   7943  42042  0.001333      0.048441    0.093201  0.000126   \n",
       "3     Multiplex   8383  68505  0.001950      0.112498    0.283138  0.000119   \n",
       "\n",
       "     p_c(3)  \n",
       "0  0.010405  \n",
       "1  0.008753  \n",
       "2  0.007934  \n",
       "3  0.007723  "
      ]
     },
     "metadata": {},
     "output_type": "display_data"
    }
   ],
   "source": [
    "display(df2)"
   ]
  },
  {
   "cell_type": "markdown",
   "metadata": {},
   "source": [
    "## Other languages"
   ]
  },
  {
   "cell_type": "code",
   "execution_count": 129,
   "metadata": {
    "collapsed": true
   },
   "outputs": [],
   "source": [
    "Ru=nx.read_graphml('data\\\\graphs\\\\data-rus.graphml').to_undirected() # russian\n",
    "\n",
    "Du=nx.read_graphml('data\\\\graphs\\\\data-dutch.graphml') # dutch \n",
    "graphs=[Ru,Du]"
   ]
  },
  {
   "cell_type": "code",
   "execution_count": 130,
   "metadata": {
    "collapsed": true
   },
   "outputs": [],
   "source": [
    "df3 = pd.DataFrame(columns=['Network', 'Nodes', 'Edges', 'Density','Transitivity','Clustering','p_c(2)','p_c(3)'])\n",
    "df3['Network']=['Rus','Dutch']\n",
    "\n",
    "df3['Nodes']=[nx.number_of_nodes(graph) for graph in graphs]\n",
    "df3['Edges']=[nx.number_of_edges(graph) for graph in graphs]\n",
    "df3['Density']=[nx.density(graph) for graph in graphs]\n",
    "df3['Transitivity']=[nx.transitivity(graph) for graph in graphs]\n",
    "df3['Clustering']=[nx.average_clustering(graph) for graph in graphs]\n",
    "\n",
    "df3['p_c(2)']=np.array([critical_probs(graph) for graph in graphs])[:,0]\n",
    "df3['p_c(3)']=np.array([critical_probs(graph) for graph in graphs])[:,1]"
   ]
  },
  {
   "cell_type": "code",
   "execution_count": 131,
   "metadata": {},
   "outputs": [
    {
     "data": {
      "text/html": [
       "<div>\n",
       "<style scoped>\n",
       "    .dataframe tbody tr th:only-of-type {\n",
       "        vertical-align: middle;\n",
       "    }\n",
       "\n",
       "    .dataframe tbody tr th {\n",
       "        vertical-align: top;\n",
       "    }\n",
       "\n",
       "    .dataframe thead th {\n",
       "        text-align: right;\n",
       "    }\n",
       "</style>\n",
       "<table border=\"1\" class=\"dataframe\">\n",
       "  <thead>\n",
       "    <tr style=\"text-align: right;\">\n",
       "      <th></th>\n",
       "      <th>Network</th>\n",
       "      <th>Nodes</th>\n",
       "      <th>Edges</th>\n",
       "      <th>Density</th>\n",
       "      <th>Transitivity</th>\n",
       "      <th>Clustering</th>\n",
       "      <th>p_c(2)</th>\n",
       "      <th>p_c(3)</th>\n",
       "    </tr>\n",
       "  </thead>\n",
       "  <tbody>\n",
       "    <tr>\n",
       "      <th>0</th>\n",
       "      <td>Rus</td>\n",
       "      <td>5377</td>\n",
       "      <td>51191</td>\n",
       "      <td>0.003542</td>\n",
       "      <td>0.066898</td>\n",
       "      <td>0.163248</td>\n",
       "      <td>0.000186</td>\n",
       "      <td>0.009643</td>\n",
       "    </tr>\n",
       "    <tr>\n",
       "      <th>1</th>\n",
       "      <td>Dutch</td>\n",
       "      <td>10486</td>\n",
       "      <td>207810</td>\n",
       "      <td>0.003780</td>\n",
       "      <td>0.057785</td>\n",
       "      <td>0.138735</td>\n",
       "      <td>0.000095</td>\n",
       "      <td>0.006905</td>\n",
       "    </tr>\n",
       "  </tbody>\n",
       "</table>\n",
       "</div>"
      ],
      "text/plain": [
       "  Network  Nodes   Edges   Density  Transitivity  Clustering    p_c(2)  \\\n",
       "0     Rus   5377   51191  0.003542      0.066898    0.163248  0.000186   \n",
       "1   Dutch  10486  207810  0.003780      0.057785    0.138735  0.000095   \n",
       "\n",
       "     p_c(3)  \n",
       "0  0.009643  \n",
       "1  0.006905  "
      ]
     },
     "metadata": {},
     "output_type": "display_data"
    }
   ],
   "source": [
    "display(df3)"
   ]
  },
  {
   "cell_type": "code",
   "execution_count": null,
   "metadata": {
    "collapsed": true
   },
   "outputs": [],
   "source": []
  }
 ],
 "metadata": {
  "kernelspec": {
   "display_name": "Python 3",
   "language": "python",
   "name": "python3"
  },
  "language_info": {
   "codemirror_mode": {
    "name": "ipython",
    "version": 3
   },
   "file_extension": ".py",
   "mimetype": "text/x-python",
   "name": "python",
   "nbconvert_exporter": "python",
   "pygments_lexer": "ipython3",
   "version": "3.6.3"
  }
 },
 "nbformat": 4,
 "nbformat_minor": 2
}
