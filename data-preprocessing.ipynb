{
 "cells": [
  {
   "cell_type": "code",
   "execution_count": 43,
   "metadata": {
    "collapsed": true
   },
   "outputs": [],
   "source": [
    "import matplotlib.pyplot as plt\n",
    "import numpy as np\n",
    "%matplotlib inline\n",
    "import networkx as nx\n",
    "import pandas as pd"
   ]
  },
  {
   "cell_type": "code",
   "execution_count": 54,
   "metadata": {
    "collapsed": true
   },
   "outputs": [],
   "source": [
    "def remove_nodes_with_zero_out_degree(G):\n",
    "    H=G.copy()\n",
    "    nodes=[n for (n,d) in G.out_degree() if d==0]\n",
    "    H.remove_nodes_from(nodes)\n",
    "    return H "
   ]
  },
  {
   "cell_type": "code",
   "execution_count": 42,
   "metadata": {},
   "outputs": [],
   "source": [
    "G=nx.read_weighted_edgelist('data\\\\raw\\\\edinburgh.txt',create_using=nx.DiGraph) # raw data for Edinburgh network\n",
    "rG=remove_nodes_with_zero_out_degree(G)\n",
    "nx.write_graphml(rG,'data\\\\graphs\\\\data-ed.graphml')"
   ]
  },
  {
   "cell_type": "code",
   "execution_count": 44,
   "metadata": {},
   "outputs": [],
   "source": [
    "data=pd.read_excel('data\\\\raw\\\\dutch.xlsx') # raw data for Dutch network"
   ]
  },
  {
   "cell_type": "code",
   "execution_count": 46,
   "metadata": {},
   "outputs": [],
   "source": [
    "nodes=set(data['cue']) # nodes \n",
    "G=nx.Graph() # empty graph\n",
    "for i in range(len(data)):\n",
    "    P,Q=data['cue'][i],data['asso1'][i]\n",
    "    if (Q in nodes):\n",
    "        G.add_edge(P,Q)"
   ]
  },
  {
   "cell_type": "code",
   "execution_count": 47,
   "metadata": {
    "collapsed": true
   },
   "outputs": [],
   "source": [
    "nx.write_graphml(G,'data\\\\graphs\\\\data-dutch.graphml')"
   ]
  },
  {
   "cell_type": "code",
   "execution_count": 50,
   "metadata": {
    "collapsed": true
   },
   "outputs": [],
   "source": [
    "data=pd.read_excel('data\\\\raw\\\\rus.xlsx') # raw data for Russian network\n",
    "graph_data=data[(data['Weight']>1)][['Source','Target','Weight']] #delete association with the weight = 1\n",
    "G=nx.nx.from_pandas_edgelist(graph_data,'Source', 'Target', edge_attr=True, create_using=nx.DiGraph())"
   ]
  },
  {
   "cell_type": "code",
   "execution_count": 55,
   "metadata": {
    "collapsed": true
   },
   "outputs": [],
   "source": [
    "rG=remove_nodes_with_zero_out_degree(G)\n",
    "nx.write_graphml(rG,'data\\\\graphs\\\\data-rus.graphml')"
   ]
  },
  {
   "cell_type": "code",
   "execution_count": null,
   "metadata": {
    "collapsed": true
   },
   "outputs": [],
   "source": []
  }
 ],
 "metadata": {
  "kernelspec": {
   "display_name": "Python 3",
   "language": "python",
   "name": "python3"
  },
  "language_info": {
   "codemirror_mode": {
    "name": "ipython",
    "version": 3
   },
   "file_extension": ".py",
   "mimetype": "text/x-python",
   "name": "python",
   "nbconvert_exporter": "python",
   "pygments_lexer": "ipython3",
   "version": "3.6.3"
  }
 },
 "nbformat": 4,
 "nbformat_minor": 2
}
